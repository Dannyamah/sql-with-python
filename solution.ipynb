{
 "cells": [
  {
   "cell_type": "markdown",
   "id": "ef43c48f",
   "metadata": {},
   "source": [
    "- Take-Home exercise\n",
    "    - Create a notebook which does following:\n",
    "        - Insert at least **3 different coins** into the `coins` table.\n",
    "        - Insert **5 daily price records** for each coin into the `prices` table.\n",
    "        - Create a business question (what is the average price for each coin? what is the highest price for each coin?)\n",
    "        - Write an SQL query to solve the business question"
   ]
  },
  {
   "cell_type": "code",
   "execution_count": 1,
   "id": "3cbe1cf6",
   "metadata": {},
   "outputs": [],
   "source": [
    "import pandas as pd\n",
    "import sqlite3"
   ]
  },
  {
   "cell_type": "code",
   "execution_count": 3,
   "id": "492f3026",
   "metadata": {},
   "outputs": [],
   "source": [
    "conn = sqlite3.connect('crypto.db')\n",
    "cursor = conn.cursor()\n",
    "\n",
    "cursor.execute(\"\"\"\n",
    "CREATE TABLE IF NOT EXISTS coins (\n",
    "    coin_id INTEGER PRIMARY KEY,\n",
    "    name TEXT,\n",
    "    symbol TEXT\n",
    ")\n",
    "\"\"\")\n",
    "\n",
    "cursor.execute(\"\"\"\n",
    "CREATE TABLE IF NOT EXISTS prices (\n",
    "    price_id INTEGER PRIMARY KEY,\n",
    "    coin_id INTEGER,\n",
    "    price REAL,\n",
    "    date TEXT,\n",
    "    FOREIGN KEY (coin_id) REFERENCES coins (coin_id)\n",
    ")\n",
    "\"\"\")\n",
    "\n",
    "\n",
    "conn.commit()"
   ]
  },
  {
   "cell_type": "code",
   "execution_count": 4,
   "id": "5fe35095",
   "metadata": {},
   "outputs": [],
   "source": [
    "coins_data = [\n",
    "    (1, \"Bitcoin\", \"BTC\"),\n",
    "    (2, \"Ethereum\", \"ETH\"),\n",
    "    (3, \"Solana\", \"SOL\"),\n",
    "    (4, \"Ripple\", \"XRP\"),\n",
    "    (5, \"Cardano\", \"ADA\")\n",
    "]\n",
    "\n",
    "cursor.executemany(\"INSERT OR IGNORE INTO coins VALUES (?, ?, ?)\", coins_data)\n",
    "\n",
    "prices_data = [\n",
    "    # Bitcoin (coin_id=1)\n",
    "    (1, 1, 124000.0, \"2025-08-10\"),\n",
    "    (2, 1, 121000.0, \"2025-08-11\"),\n",
    "    (3, 1, 123500.0, \"2025-08-12\"),\n",
    "    (4, 1, 124500.0, \"2025-08-13\"),\n",
    "    (5, 1, 124223.0, \"2025-08-14\"),\n",
    "\n",
    "    # Ethereum (coin_id=2)\n",
    "    (6, 2, 4600.0,   \"2025-08-10\"),\n",
    "    (7, 2, 4700.0,   \"2025-08-11\"),\n",
    "    (8, 2, 4725.0,   \"2025-08-12\"),\n",
    "    (9, 2, 4750.0,   \"2025-08-13\"),\n",
    "    (10, 2, 4752.18,  \"2025-08-14\"),\n",
    "\n",
    "    # Solana (coin_id=3)\n",
    "    (11, 3, 180.0,    \"2025-08-10\"),\n",
    "    (12, 3, 175.0,    \"2025-08-11\"),\n",
    "    (13, 3, 182.0,    \"2025-08-12\"),\n",
    "    (14, 3, 180.0,    \"2025-08-13\"),\n",
    "    (15, 3, 180.24,   \"2025-08-14\"),\n",
    "\n",
    "    # Ripple (coin_id=4)\n",
    "    (16, 4, 0.32,     \"2025-07-31\"),\n",
    "    (17, 4, 0.33,     \"2025-08-01\"),\n",
    "    (18, 4, 0.36,     \"2025-08-02\"),\n",
    "    (19, 4, 0.34,     \"2025-08-03\"),\n",
    "    (20, 4, 0.33,     \"2025-08-04\"),\n",
    "\n",
    "    # Cardano (coin_id=5)\n",
    "    (21, 5, 0.80,     \"2025-08-10\"),\n",
    "    (22, 5, 0.79,     \"2025-08-11\"),\n",
    "    (23, 5, 0.80,     \"2025-08-12\"),\n",
    "    (24, 5, 0.79,     \"2025-08-13\"),\n",
    "    (25, 5, 0.81,     \"2025-08-14\"),\n",
    "]\n",
    "\n",
    "cursor.executemany(\"INSERT OR IGNORE INTO prices VALUES (?, ?, ?, ?)\", prices_data)\n",
    "\n",
    "conn.commit()"
   ]
  },
  {
   "cell_type": "code",
   "execution_count": 6,
   "id": "46651252",
   "metadata": {},
   "outputs": [],
   "source": [
    "df = pd.read_sql(\"\"\"\n",
    "    SELECT \n",
    "        p.date,\n",
    "        c.name,\n",
    "        c.symbol,\n",
    "        p.price\n",
    "    FROM coins c\n",
    "    LEFT JOIN prices p \n",
    "        ON c.coin_id = p.coin_id\n",
    "\"\"\", conn)"
   ]
  },
  {
   "cell_type": "markdown",
   "id": "bcda203b",
   "metadata": {},
   "source": [
    "### what is the average price for each coin?"
   ]
  },
  {
   "cell_type": "code",
   "execution_count": 9,
   "id": "4094ba01",
   "metadata": {},
   "outputs": [
    {
     "name": "stdout",
     "output_type": "stream",
     "text": [
      "Average Price for each coin:\n",
      "\n",
      "       Coin Symbol  Average Price\n",
      "0   Bitcoin    BTC     123444.600\n",
      "1   Cardano    ADA          0.798\n",
      "2  Ethereum    ETH       4705.436\n",
      "3    Ripple    XRP          0.336\n",
      "4    Solana    SOL        179.448\n"
     ]
    }
   ],
   "source": [
    "average = pd.read_sql(\"\"\"\n",
    "    SELECT\n",
    "        c.name as Coin,\n",
    "        c.symbol as Symbol,\n",
    "        AVG(p.price) AS \"Average Price\"\n",
    "    FROM coins c\n",
    "    LEFT JOIN prices p\n",
    "        ON c.coin_id = p.coin_id\n",
    "    GROUP BY c.name, c.symbol\n",
    "\"\"\", conn)\n",
    "\n",
    "print(f\"Average Price for each coin:\\n\")\n",
    "print(average)"
   ]
  },
  {
   "cell_type": "markdown",
   "id": "ada606b6",
   "metadata": {},
   "source": [
    "### What is the highest price for each coin"
   ]
  },
  {
   "cell_type": "code",
   "execution_count": 10,
   "id": "b89067f4",
   "metadata": {},
   "outputs": [
    {
     "name": "stdout",
     "output_type": "stream",
     "text": [
      "Highest Price for each coin:\n",
      "\n",
      "       Coin Symbol  Highest Price\n",
      "0   Bitcoin    BTC      124500.00\n",
      "1   Cardano    ADA           0.81\n",
      "2  Ethereum    ETH        4752.18\n",
      "3    Ripple    XRP           0.36\n",
      "4    Solana    SOL         182.00\n"
     ]
    }
   ],
   "source": [
    "max_price = pd.read_sql(\"\"\"\n",
    "    SELECT\n",
    "        c.name as Coin,\n",
    "        c.symbol as Symbol,\n",
    "        MAX(p.price) AS \"Highest Price\"\n",
    "    FROM coins c\n",
    "    LEFT JOIN prices p\n",
    "        ON c.coin_id = p.coin_id\n",
    "    GROUP BY c.name, c.symbol\n",
    "\"\"\", conn)\n",
    "\n",
    "print(f\"Highest Price for each coin:\\n\")\n",
    "print(max_price)"
   ]
  }
 ],
 "metadata": {
  "kernelspec": {
   "display_name": "my_env",
   "language": "python",
   "name": "python3"
  },
  "language_info": {
   "codemirror_mode": {
    "name": "ipython",
    "version": 3
   },
   "file_extension": ".py",
   "mimetype": "text/x-python",
   "name": "python",
   "nbconvert_exporter": "python",
   "pygments_lexer": "ipython3",
   "version": "3.10.11"
  }
 },
 "nbformat": 4,
 "nbformat_minor": 5
}
